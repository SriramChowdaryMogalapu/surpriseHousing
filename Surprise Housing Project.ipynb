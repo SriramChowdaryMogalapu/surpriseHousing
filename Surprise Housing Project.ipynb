{
 "cells": [
  {
   "cell_type": "markdown",
   "id": "6eeeb85b",
   "metadata": {},
   "source": [
    "#### Install Required Library Packages"
   ]
  },
  {
   "cell_type": "code",
   "execution_count": null,
   "id": "01d18694",
   "metadata": {},
   "outputs": [],
   "source": [
    "!pip install pytest-warnings\n",
    "!pip install numpy\n",
    "!pip install pandas\n",
    "!pip install matplotlib\n",
    "!pip install seaborn\n",
    "!pip install scikit-learn\n",
    "!pip freeze"
   ]
  },
  {
   "cell_type": "code",
   "execution_count": 2,
   "id": "323986ca",
   "metadata": {},
   "outputs": [],
   "source": [
    "#import the warning\n",
    "import warnings\n",
    "warnings.filterwarnings(\"ignore\")"
   ]
  },
  {
   "cell_type": "code",
   "execution_count": 3,
   "id": "99de5927",
   "metadata": {},
   "outputs": [],
   "source": [
    "import numpy as np\n",
    "import pandas as pd\n",
    "pd.set_option(\"display.max_columns\",None)\n",
    "pd.set_option(\"display.max_rows\",None)"
   ]
  },
  {
   "cell_type": "markdown",
   "id": "84a037e9",
   "metadata": {},
   "source": [
    "### Step 1 : Import and Inspect Dataset"
   ]
  },
  {
   "cell_type": "code",
   "execution_count": null,
   "id": "a55b50f4",
   "metadata": {
    "scrolled": true
   },
   "outputs": [],
   "source": [
    "housing=pd.read_csv(\"train.csv\")\n",
    "housing.head()"
   ]
  },
  {
   "cell_type": "code",
   "execution_count": 5,
   "id": "87ec4d2a",
   "metadata": {},
   "outputs": [
    {
     "data": {
      "text/plain": [
       "(1460, 81)"
      ]
     },
     "execution_count": 5,
     "metadata": {},
     "output_type": "execute_result"
    }
   ],
   "source": [
    "housing.shape"
   ]
  },
  {
   "cell_type": "code",
   "execution_count": null,
   "id": "ecf87273",
   "metadata": {},
   "outputs": [],
   "source": [
    "housing.describe()"
   ]
  },
  {
   "cell_type": "code",
   "execution_count": null,
   "id": "f8353d55",
   "metadata": {},
   "outputs": [],
   "source": [
    "housing.info()"
   ]
  },
  {
   "cell_type": "code",
   "execution_count": null,
   "id": "4eb90432",
   "metadata": {},
   "outputs": [],
   "source": [
    "housing.isnull().sum()/housing.shape[0]*100"
   ]
  },
  {
   "cell_type": "markdown",
   "id": "430d0dad",
   "metadata": {},
   "source": [
    "### Step 2 : Data Cleaning"
   ]
  },
  {
   "cell_type": "code",
   "execution_count": 9,
   "id": "bccfb630",
   "metadata": {},
   "outputs": [],
   "source": [
    "cols=[\"Alley\",\"BsmtQual\",\"BsmtExposure\",\"BsmtFinType1\",\"BsmtFinType2\",\"FireplaceQu\",\n",
    "      \"GarageType\",\"GarageFinish\",\"GarageQual\",\"GarageCond\",\"PoolQC\",\"Fence\",\"MiscFeature\"]\n",
    "for i in cols:\n",
    "    housing[i].fillna(\"None\",inplace=True)"
   ]
  },
  {
   "cell_type": "code",
   "execution_count": null,
   "id": "9fc0d6bd",
   "metadata": {},
   "outputs": [],
   "source": [
    "housing.info()"
   ]
  },
  {
   "cell_type": "code",
   "execution_count": 11,
   "id": "bb41d34c",
   "metadata": {},
   "outputs": [],
   "source": [
    "#import Visualisation libs\n",
    "import seaborn as sns\n",
    "import matplotlib.pyplot as plt\n",
    "%matplotlib inline"
   ]
  },
  {
   "cell_type": "code",
   "execution_count": null,
   "id": "a2f8bc88",
   "metadata": {},
   "outputs": [],
   "source": [
    "#checking target variable \"SalePrice\" is normal distributed\n",
    "plt.figure(figsize=[6,6])\n",
    "sns.displot(housing[\"SalePrice\"])\n",
    "plt.show()"
   ]
  },
  {
   "cell_type": "markdown",
   "id": "b0fffe5f",
   "metadata": {},
   "source": [
    "##### Target Variable SalePrice is Right-Skewed"
   ]
  },
  {
   "cell_type": "code",
   "execution_count": null,
   "id": "77d4e6a8",
   "metadata": {},
   "outputs": [],
   "source": [
    "print(\"Skewnwss: \",housing['SalePrice'].skew())\n",
    "print(\"Kurtosis: \",housing['SalePrice'].kurt())"
   ]
  },
  {
   "cell_type": "markdown",
   "id": "870b0158",
   "metadata": {},
   "source": [
    "##### We can observe that target variable has skewness greater than 1 and has high density around saleprice of 160000.\n",
    "##### Hence We can do Data Transformation for this variable"
   ]
  },
  {
   "cell_type": "code",
   "execution_count": 14,
   "id": "4b760b96",
   "metadata": {},
   "outputs": [],
   "source": [
    "#log transformation\n",
    "housing['SalePrice']=np.log(housing['SalePrice'])"
   ]
  },
  {
   "cell_type": "code",
   "execution_count": null,
   "id": "7d23b116",
   "metadata": {},
   "outputs": [],
   "source": [
    "#checking target variable \"SalePrice\" after log transformation\n",
    "plt.figure(figsize=[6,6])\n",
    "sns.displot(housing[\"SalePrice\"])\n",
    "plt.show()"
   ]
  },
  {
   "cell_type": "code",
   "execution_count": null,
   "id": "f288b1d4",
   "metadata": {},
   "outputs": [],
   "source": [
    "print(\"Skewnwss: \",housing['SalePrice'].skew())\n",
    "print(\"Kurtosis: \",housing['SalePrice'].kurt())"
   ]
  },
  {
   "cell_type": "markdown",
   "id": "124e5509",
   "metadata": {},
   "source": [
    "##### We can see a Normal Distribution and skewness & Kutosis are reduced"
   ]
  },
  {
   "cell_type": "markdown",
   "id": "3aa180ca",
   "metadata": {},
   "source": [
    "- Drop Id column\n",
    "- Convert 'MSSubClass','OverallQual','OverallCond' to object   datatype\n",
    "- Convert 'LogFrontage','MasVnrArea' to numeric datatype"
   ]
  },
  {
   "cell_type": "code",
   "execution_count": 17,
   "id": "ef43c6c9",
   "metadata": {},
   "outputs": [],
   "source": [
    "housing.drop(\"Id\",axis=1,inplace=True)"
   ]
  },
  {
   "cell_type": "code",
   "execution_count": 18,
   "id": "2b480c42",
   "metadata": {},
   "outputs": [],
   "source": [
    "housing[['MSSubClass','OverallQual','OverallCond']]=housing[['MSSubClass','OverallQual','OverallCond']].astype('object')"
   ]
  },
  {
   "cell_type": "code",
   "execution_count": 19,
   "id": "ef0200f6",
   "metadata": {},
   "outputs": [],
   "source": [
    "housing['LotFrontage']=pd.to_numeric(housing['LotFrontage'],errors='coerce')\n",
    "housing['MasVnrArea']=pd.to_numeric(housing['MasVnrArea'],errors='coerce')"
   ]
  },
  {
   "cell_type": "code",
   "execution_count": null,
   "id": "6b4c6a76",
   "metadata": {},
   "outputs": [],
   "source": [
    "housing.info()"
   ]
  },
  {
   "cell_type": "code",
   "execution_count": null,
   "id": "aa962144",
   "metadata": {},
   "outputs": [],
   "source": [
    "null_cols = housing.columns[housing.isnull().any()]\n",
    "null_cols"
   ]
  },
  {
   "cell_type": "code",
   "execution_count": 22,
   "id": "bed46aa2",
   "metadata": {},
   "outputs": [],
   "source": [
    "for i in null_cols:\n",
    "    if housing[i].dtype==np.float64 or housing[i].dtype==np.int64:\n",
    "        housing[i].fillna(housing[i].mean(),inplace=True)\n",
    "    else:\n",
    "        housing[i].fillna(housing[i].mode()[0],inplace=True)"
   ]
  },
  {
   "cell_type": "code",
   "execution_count": null,
   "id": "b8198a87",
   "metadata": {},
   "outputs": [],
   "source": [
    "housing.isna().sum()"
   ]
  },
  {
   "cell_type": "markdown",
   "id": "3a8dab47",
   "metadata": {},
   "source": [
    "##### We have handled Null Values"
   ]
  },
  {
   "cell_type": "markdown",
   "id": "12c47c94",
   "metadata": {},
   "source": [
    "### Step 3 : Exploratory Data Analysis"
   ]
  },
  {
   "cell_type": "code",
   "execution_count": null,
   "id": "e22c8471",
   "metadata": {},
   "outputs": [],
   "source": [
    "# list of categorical columns\n",
    "cat_cols=housing.select_dtypes(include=\"object\").columns\n",
    "cat_cols"
   ]
  },
  {
   "cell_type": "code",
   "execution_count": null,
   "id": "a0d6299f",
   "metadata": {},
   "outputs": [],
   "source": [
    "# list of numerical columns\n",
    "num_cols=housing.select_dtypes(include=[\"int64\",\"float64\"]).columns\n",
    "num_cols"
   ]
  },
  {
   "cell_type": "markdown",
   "id": "404e000d",
   "metadata": {},
   "source": [
    "#### Univariate Analysis"
   ]
  },
  {
   "cell_type": "code",
   "execution_count": null,
   "id": "ee68bb2a",
   "metadata": {},
   "outputs": [],
   "source": [
    "# Numerical Columns\n",
    "#Plotting box plots to visualise the distribution and check for any outliers\n",
    "for i in num_cols:\n",
    "    plt.figure(figsize=[8,5])\n",
    "    sns.boxplot(housing[i])\n",
    "    plt.show()\n",
    "    print(\"------------------------------------------------------------------------------------------------------------------\")"
   ]
  },
  {
   "cell_type": "markdown",
   "id": "0599d50d",
   "metadata": {},
   "source": [
    "##### We can see outliers in LotFrontage, LotArea, YearBuilt, MaxVnrArea, BsmtFinSF1, etc.."
   ]
  },
  {
   "cell_type": "code",
   "execution_count": null,
   "id": "6d5c02ca",
   "metadata": {},
   "outputs": [],
   "source": [
    "# Categorical Columns\n",
    "# Plotting Pie plots to visualise distribution in each category\n",
    "for i in cat_cols:\n",
    "    print(housing[i].value_counts(normalize=True))\n",
    "    plt.figure(figsize=[5,5])\n",
    "    housing[i].value_counts(normalize=True).plot.pie(labeldistance=None,autopct='%1.2f%%')\n",
    "    plt.legend()\n",
    "    plt.show()\n",
    "    print(\"-------------------------------------------------------------------------------------------------------------\")"
   ]
  },
  {
   "cell_type": "markdown",
   "id": "b49a7fe8",
   "metadata": {},
   "source": [
    "##### We can look Percentage values in category of columns and infer that, 'MSZoning','Street','LandContour','Utilities','LotConfig',etc.. Columns are having more than 70% of a distribution in a single category"
   ]
  },
  {
   "cell_type": "markdown",
   "id": "ba97cc07",
   "metadata": {},
   "source": [
    "#### BiVariate/MultiVariate Analysis"
   ]
  },
  {
   "cell_type": "code",
   "execution_count": null,
   "id": "a4b9ea14",
   "metadata": {},
   "outputs": [],
   "source": [
    "#plot of MSZoning vs LotFrontage\n",
    "sns.barplot(x='MSZoning',y='LotFrontage',data=housing)\n",
    "plt.show()"
   ]
  },
  {
   "cell_type": "code",
   "execution_count": null,
   "id": "babd7bff",
   "metadata": {},
   "outputs": [],
   "source": [
    "#plot of MSSubClass vs LotFrontage\n",
    "sns.barplot(x='MSSubClass',y='LotFrontage',data=housing)\n",
    "plt.show()"
   ]
  },
  {
   "cell_type": "code",
   "execution_count": null,
   "id": "4b27b4ac",
   "metadata": {},
   "outputs": [],
   "source": [
    "#plot of HouseStyle vs SalePrice\n",
    "sns.barplot(x='HouseStyle',y='SalePrice',hue='Street',data=housing)\n",
    "plt.show()"
   ]
  },
  {
   "cell_type": "code",
   "execution_count": null,
   "id": "7273867e",
   "metadata": {},
   "outputs": [],
   "source": [
    "#plot of BldgType vs SalePrice\n",
    "sns.barplot(x='BldgType',y='SalePrice',data=housing)\n",
    "plt.show()"
   ]
  },
  {
   "cell_type": "code",
   "execution_count": null,
   "id": "cf5ef80b",
   "metadata": {},
   "outputs": [],
   "source": [
    "#plot of BsmtQual vs SalePrice\n",
    "sns.barplot(x='BsmtQual',y='SalePrice',data=housing)\n",
    "plt.show()"
   ]
  },
  {
   "cell_type": "markdown",
   "id": "2bcaf7cd",
   "metadata": {},
   "source": [
    "##### Conclusion\n",
    "- We can see that RL has the highest lot frontage and RM has the least\n",
    "- We can see that 2Story 1946 & Newer has the highest lot frontage and PUD-Multilevel-Incl split lewfoyer has the least\n",
    "- The SalePrice is not showing much variance with respect to Style of dwelling\n",
    "- The SalePrice is almost same for all the Building types and the basement quality. So there is no significant pattern"
   ]
  },
  {
   "cell_type": "code",
   "execution_count": null,
   "id": "d40e9ea8",
   "metadata": {},
   "outputs": [],
   "source": [
    "# Calculating Age of the Property\n",
    "housing['Age']=housing['YrSold']-housing['YearBuilt']\n",
    "housing['Age'].head()"
   ]
  },
  {
   "cell_type": "code",
   "execution_count": 34,
   "id": "25deb1cd",
   "metadata": {},
   "outputs": [],
   "source": [
    "# Dropping YrSold and YearBuilt\n",
    "housing.drop(columns=[\"YrSold\",\"YearBuilt\"],axis=1,inplace=True)"
   ]
  },
  {
   "cell_type": "code",
   "execution_count": null,
   "id": "4850043c",
   "metadata": {},
   "outputs": [],
   "source": [
    "housing.head()"
   ]
  },
  {
   "cell_type": "markdown",
   "id": "d58ba300",
   "metadata": {},
   "source": [
    "##### Correlation between Numerical Columns"
   ]
  },
  {
   "cell_type": "code",
   "execution_count": null,
   "id": "2377fe57",
   "metadata": {
    "scrolled": true
   },
   "outputs": [],
   "source": [
    "plt.figure(figsize=[25,25])\n",
    "sns.heatmap(housing.corr(numeric_only=True),annot=True,cmap='BuPu')\n",
    "plt.title(\"Correlation of Numerical Values\")\n",
    "plt.show()"
   ]
  },
  {
   "cell_type": "markdown",
   "id": "02dfd48d",
   "metadata": {},
   "source": [
    "##### Get top 10 correlated columns"
   ]
  },
  {
   "cell_type": "code",
   "execution_count": null,
   "id": "96fb275c",
   "metadata": {},
   "outputs": [],
   "source": [
    "k=10\n",
    "plt.figure(figsize=[15,15])\n",
    "cols=housing.corr(numeric_only=True).nlargest(k,\"SalePrice\").index\n",
    "cm=np.corrcoef(housing[cols].values.T)\n",
    "sns.heatmap(cm,annot=True,square=True,fmt='.2f',cbar=True,annot_kws={'size':10},\n",
    "            yticklabels=cols.values,xticklabels=cols.values)\n",
    "plt.show()"
   ]
  },
  {
   "cell_type": "markdown",
   "id": "d23753a3",
   "metadata": {},
   "source": [
    "##### We Can see that\n",
    "- GarageArea and GarageCars are highly correlated with coeff of 0.88\n",
    "- GrLivArea and TotResAbvGrd are highly correlated with coeff of 0.83\n",
    "- TotalBsmtSF and FirstFlrSF are highly correlated with coeff of 0.82"
   ]
  },
  {
   "cell_type": "markdown",
   "id": "4d88a438",
   "metadata": {},
   "source": [
    "#### Pairplot for Numeric Columns"
   ]
  },
  {
   "cell_type": "code",
   "execution_count": null,
   "id": "c290bd34",
   "metadata": {},
   "outputs": [],
   "source": [
    "cols=['SalePrice','OverallQual','GrLivArea','FullBath','GarageCars','TotalBsmtSF',\"Age\"]\n",
    "plt.figure(figsize=[20,20])\n",
    "sns.pairplot(housing[cols])\n",
    "plt.show()"
   ]
  },
  {
   "cell_type": "markdown",
   "id": "063e07d9",
   "metadata": {},
   "source": [
    "We can see that Age has negative correlation with target variable SalePrice and TotalBsmtSF,GrLivArea have positive correlation with SalePrice"
   ]
  },
  {
   "cell_type": "markdown",
   "id": "b1e85478",
   "metadata": {},
   "source": [
    "### Step 4 : Data Preparation"
   ]
  },
  {
   "cell_type": "markdown",
   "id": "65dc0136",
   "metadata": {},
   "source": [
    "##### Dummy Encoding"
   ]
  },
  {
   "cell_type": "code",
   "execution_count": 39,
   "id": "0b6838cb",
   "metadata": {},
   "outputs": [],
   "source": [
    "housing_num=housing.select_dtypes(include=['int64','float64'])\n",
    "housing_cat=housing.select_dtypes(include=['object'])"
   ]
  },
  {
   "cell_type": "code",
   "execution_count": null,
   "id": "ed451e13",
   "metadata": {},
   "outputs": [],
   "source": [
    "housing_cat"
   ]
  },
  {
   "cell_type": "code",
   "execution_count": null,
   "id": "f4386533",
   "metadata": {},
   "outputs": [],
   "source": [
    "housing_cat_dm=pd.get_dummies(housing_cat,drop_first=True,dtype=int)\n",
    "housing_cat_dm"
   ]
  },
  {
   "cell_type": "code",
   "execution_count": null,
   "id": "c08a42b1",
   "metadata": {},
   "outputs": [],
   "source": [
    "house=pd.concat([housing_num,housing_cat_dm],axis=1)\n",
    "house.head()"
   ]
  },
  {
   "cell_type": "code",
   "execution_count": null,
   "id": "96cc4e08",
   "metadata": {},
   "outputs": [],
   "source": [
    "house.shape"
   ]
  },
  {
   "cell_type": "code",
   "execution_count": null,
   "id": "7cfa68a9",
   "metadata": {},
   "outputs": [],
   "source": [
    "# split into target and feature variables\n",
    "x=house.drop(['SalePrice'],axis=1).copy()\n",
    "y=house['SalePrice'].copy()\n",
    "x.head()\n",
    "# y.head()"
   ]
  },
  {
   "cell_type": "code",
   "execution_count": null,
   "id": "d96759a8",
   "metadata": {},
   "outputs": [],
   "source": [
    "y.head()"
   ]
  },
  {
   "cell_type": "code",
   "execution_count": 46,
   "id": "0fa88d9d",
   "metadata": {},
   "outputs": [],
   "source": [
    "from sklearn.model_selection import train_test_split\n",
    "from sklearn.preprocessing import StandardScaler"
   ]
  },
  {
   "cell_type": "code",
   "execution_count": 47,
   "id": "11777062",
   "metadata": {},
   "outputs": [],
   "source": [
    "x_train,x_test,y_train,y_test=train_test_split(x,y,test_size=0.3,random_state=42)"
   ]
  },
  {
   "cell_type": "code",
   "execution_count": null,
   "id": "deb4229a",
   "metadata": {},
   "outputs": [],
   "source": [
    "x_train.shape"
   ]
  },
  {
   "cell_type": "code",
   "execution_count": null,
   "id": "016e5f4f",
   "metadata": {},
   "outputs": [],
   "source": [
    "y_train.shape"
   ]
  },
  {
   "cell_type": "markdown",
   "id": "ce05dba2",
   "metadata": {},
   "source": [
    "#### Scaling the dataset with standard scalar"
   ]
  },
  {
   "cell_type": "code",
   "execution_count": 50,
   "id": "3bcc8556",
   "metadata": {},
   "outputs": [],
   "source": [
    "nums_cols=list(x_train.select_dtypes(include=['int64','float64']).columns)"
   ]
  },
  {
   "cell_type": "code",
   "execution_count": 51,
   "id": "c7caf165",
   "metadata": {},
   "outputs": [],
   "source": [
    "scaler=StandardScaler()\n",
    "x_train[nums_cols]=scaler.fit_transform(x_train[nums_cols])\n",
    "x_test[nums_cols]=scaler.fit_transform(x_test[nums_cols])"
   ]
  },
  {
   "cell_type": "markdown",
   "id": "5ac39dda",
   "metadata": {},
   "source": [
    "Building a function to calculate evaluation metrics"
   ]
  },
  {
   "cell_type": "code",
   "execution_count": 52,
   "id": "ff9baa45",
   "metadata": {},
   "outputs": [],
   "source": [
    "def eval_metrics(y_train,y_train_pred,y_test,y_pred):\n",
    "    #r^2 values for train and test data\n",
    "    print(\"r2 score (train) =\",\"%.2f\" %r2_score(y_train,y_train_pred))\n",
    "    print(\"r2 score (test) =\",\"%.2f\" %r2_score(y_test,y_pred))\n",
    "    \n",
    "    #RMSE for train and test data\n",
    "    mse_train=mean_squared_error(y_train,y_train_pred)\n",
    "    mse_test=mean_squared_error(y_test,y_pred)\n",
    "    rmse_train=mse_train ** 0.5\n",
    "    rmse_test=mse_test ** 0.5\n",
    "    print(\"RMSE(train) = \",'%.2f' %rmse_train)\n",
    "    print(\"RMSE(test) = \",'%.2f' %rmse_test)"
   ]
  },
  {
   "cell_type": "markdown",
   "id": "95432b34",
   "metadata": {},
   "source": [
    "### Step 5 : Building ML Model"
   ]
  },
  {
   "cell_type": "code",
   "execution_count": 53,
   "id": "e95514d8",
   "metadata": {},
   "outputs": [],
   "source": [
    "# import ML Libs\n",
    "import sklearn\n",
    "from sklearn.feature_selection import RFE\n",
    "from sklearn.linear_model import LinearRegression\n",
    "from sklearn.metrics import r2_score,mean_squared_error\n",
    "from sklearn.linear_model import Ridge,Lasso\n",
    "from sklearn.model_selection import GridSearchCV"
   ]
  },
  {
   "cell_type": "code",
   "execution_count": null,
   "id": "e2c96041",
   "metadata": {},
   "outputs": [],
   "source": [
    "# Applying Ridge regressing with varying hyperparameter 'Lambda' \n",
    "params={'alpha':\n",
    "          [0.0001,0.001,0.01,0.05,0.1,0.2,0.3,0.4,0.5,0.6,0.7,0.8,0.9,1.0,\n",
    "                2.0,3.0,4.0,5.0,6.0,7.0,8.0,9.0,10,20,50,100,500,1000]}\n",
    "ridge=Ridge()\n",
    "ridgeCV=GridSearchCV(estimator=ridge,param_grid=params,scoring='neg_mean_absolute_error',cv=5,return_train_score=True,verbose=1,n_jobs=-1)\n",
    "ridgeCV.fit(x_train,y_train)"
   ]
  },
  {
   "cell_type": "code",
   "execution_count": null,
   "id": "d6cb2322",
   "metadata": {},
   "outputs": [],
   "source": [
    "ridgeCV.best_params_"
   ]
  },
  {
   "cell_type": "code",
   "execution_count": null,
   "id": "17c897db",
   "metadata": {},
   "outputs": [],
   "source": [
    "ridgeCV.cv_results_"
   ]
  },
  {
   "cell_type": "code",
   "execution_count": 57,
   "id": "1ce52dde",
   "metadata": {},
   "outputs": [],
   "source": [
    "ridge=Ridge(alpha=9)"
   ]
  },
  {
   "cell_type": "code",
   "execution_count": null,
   "id": "628bfd92",
   "metadata": {},
   "outputs": [],
   "source": [
    "ridge.fit(x_train,y_train)"
   ]
  },
  {
   "cell_type": "code",
   "execution_count": null,
   "id": "c9d410e2",
   "metadata": {},
   "outputs": [],
   "source": [
    "ridge.coef_"
   ]
  },
  {
   "cell_type": "code",
   "execution_count": 60,
   "id": "90a43de0",
   "metadata": {},
   "outputs": [],
   "source": [
    "y_train_pred = ridge.predict(x_train)\n",
    "y_pred = ridge.predict(x_test)"
   ]
  },
  {
   "cell_type": "code",
   "execution_count": null,
   "id": "ce8f53db",
   "metadata": {},
   "outputs": [],
   "source": [
    "eval_metrics(y_train,y_train_pred,y_test,y_pred)"
   ]
  },
  {
   "cell_type": "code",
   "execution_count": null,
   "id": "c072c094",
   "metadata": {},
   "outputs": [],
   "source": [
    "ridgeCV_res=pd.DataFrame(ridgeCV.cv_results_)\n",
    "ridgeCV_res.head()"
   ]
  },
  {
   "cell_type": "code",
   "execution_count": null,
   "id": "4d153d19",
   "metadata": {},
   "outputs": [],
   "source": [
    "plt.plot(ridgeCV_res['param_alpha'],ridgeCV_res['mean_train_score'],label='train')\n",
    "plt.plot(ridgeCV_res['param_alpha'],ridgeCV_res['mean_test_score'],label='test')\n",
    "plt.xlabel('alpha')\n",
    "plt.ylabel('R2_score')\n",
    "plt.xscale('log')\n",
    "plt.legend()\n",
    "plt.show()"
   ]
  },
  {
   "cell_type": "code",
   "execution_count": null,
   "id": "3f8e99cc",
   "metadata": {},
   "outputs": [],
   "source": [
    "# Applying Lasso regressing with varying hyperparameter 'Lambda' \n",
    "params={'alpha':\n",
    "          [0.0001,0.001,0.01,0.05,0.1,0.2,0.3,0.4,0.5,0.6,0.7,0.8,0.9,1.0,\n",
    "                2.0,3.0,4.0,5.0,6.0,7.0,8.0,9.0,10,20,50,100,500,1000]}\n",
    "lasso=Lasso()\n",
    "lassoCV=GridSearchCV(estimator=lasso,param_grid=params,scoring='neg_mean_absolute_error',cv=5,return_train_score=True,verbose=1,n_jobs=-1)\n",
    "lassoCV.fit(x_train,y_train)"
   ]
  },
  {
   "cell_type": "code",
   "execution_count": null,
   "id": "4c59c939",
   "metadata": {},
   "outputs": [],
   "source": [
    "lassoCV.best_params_"
   ]
  },
  {
   "cell_type": "code",
   "execution_count": 66,
   "id": "1672f885",
   "metadata": {},
   "outputs": [],
   "source": [
    "lasso=Lasso(alpha=0.0001)"
   ]
  },
  {
   "cell_type": "code",
   "execution_count": null,
   "id": "0abcf18c",
   "metadata": {},
   "outputs": [],
   "source": [
    "lasso.fit(x_train,y_train)"
   ]
  },
  {
   "cell_type": "code",
   "execution_count": null,
   "id": "f9070f6f",
   "metadata": {},
   "outputs": [],
   "source": [
    "lasso.coef_"
   ]
  },
  {
   "cell_type": "code",
   "execution_count": null,
   "id": "f91adebc",
   "metadata": {},
   "outputs": [],
   "source": [
    "y_train_pred1 = lasso.predict(x_train)\n",
    "y_pred1 = lasso.predict(x_test)\n",
    "eval_metrics(y_train,y_train_pred1,y_test,y_pred1)"
   ]
  },
  {
   "cell_type": "code",
   "execution_count": null,
   "id": "c33c85a2",
   "metadata": {},
   "outputs": [],
   "source": [
    "lassoCV_res=pd.DataFrame(lassoCV.cv_results_)\n",
    "lassoCV_res.head()"
   ]
  },
  {
   "cell_type": "code",
   "execution_count": null,
   "id": "c4800b39",
   "metadata": {},
   "outputs": [],
   "source": [
    "plt.plot(lassoCV_res['param_alpha'],lassoCV_res['mean_train_score'],label='train')\n",
    "plt.plot(lassoCV_res['param_alpha'],lassoCV_res['mean_test_score'],label='test')\n",
    "plt.xlabel('alpha')\n",
    "plt.ylabel('R2_score')\n",
    "plt.xscale('log')\n",
    "plt.legend()\n",
    "plt.show()"
   ]
  },
  {
   "cell_type": "markdown",
   "id": "352800be",
   "metadata": {},
   "source": [
    "##### Feature Extraction/Elimination"
   ]
  },
  {
   "cell_type": "code",
   "execution_count": null,
   "id": "421a4a4e",
   "metadata": {},
   "outputs": [],
   "source": [
    "betas=pd.DataFrame(index=x.columns) #convert the columns to a dataframe as betas\n",
    "betas.rows=x.columns\n",
    "#creating columns for Ridge and Lasso coefficients against each feature\n",
    "betas['Ridge']=ridge.coef_\n",
    "betas['Lasso']=lasso.coef_\n",
    "betas"
   ]
  },
  {
   "cell_type": "code",
   "execution_count": null,
   "id": "5c35b595",
   "metadata": {},
   "outputs": [],
   "source": [
    "# view the features removed by lasso\n",
    "lasso_cols_removed=list(betas[betas['Lasso']==0].index)\n",
    "print(lasso_cols_removed)"
   ]
  },
  {
   "cell_type": "code",
   "execution_count": null,
   "id": "6fc6a544",
   "metadata": {},
   "outputs": [],
   "source": [
    "# view the features selected by lasso\n",
    "lasso_cols_selected=list(betas[betas['Lasso']!=0].index)\n",
    "print(lasso_cols_selected)"
   ]
  },
  {
   "cell_type": "code",
   "execution_count": null,
   "id": "d660c3d3",
   "metadata": {},
   "outputs": [],
   "source": [
    "print(len(lasso_cols_removed))\n",
    "print(len(lasso_cols_selected))"
   ]
  },
  {
   "cell_type": "markdown",
   "id": "28631770",
   "metadata": {},
   "source": [
    "##### Top 10 features significant in predicting the value of a house, both according to Ridge and Lasso Model"
   ]
  },
  {
   "cell_type": "code",
   "execution_count": null,
   "id": "e19be9c9",
   "metadata": {},
   "outputs": [],
   "source": [
    "#view the top 10 coefficients of Ridge regression in descending order\n",
    "betas['Ridge'].sort_values(ascending=False)[:10]"
   ]
  },
  {
   "cell_type": "code",
   "execution_count": null,
   "id": "c4a0b56e",
   "metadata": {},
   "outputs": [],
   "source": [
    "#we have to take inverse log of betas to interpret the ridge coefficients in terms of target variable\n",
    "ridge_coeffs=np.exp(betas['Ridge'])\n",
    "ridge_coeffs.sort_values(ascending=False)[:10]"
   ]
  },
  {
   "cell_type": "code",
   "execution_count": null,
   "id": "6220c955",
   "metadata": {},
   "outputs": [],
   "source": [
    "#view the top 10 coefficients of Lasso regression in descending order\n",
    "betas['Lasso'].sort_values(ascending=False)[:10]"
   ]
  },
  {
   "cell_type": "code",
   "execution_count": null,
   "id": "cb48c9df",
   "metadata": {},
   "outputs": [],
   "source": [
    "#we have to take inverse log of betas to interpret the lasso coefficients in terms of target variable\n",
    "ridge_coeffs=np.exp(betas['Lasso'])\n",
    "ridge_coeffs.sort_values(ascending=False)[:10]"
   ]
  },
  {
   "cell_type": "markdown",
   "id": "4bc7d1aa",
   "metadata": {},
   "source": [
    "##### Few Inferences are :- \n",
    "- Therefore the price of the house will increase by 1.11 with the increase in GrLivArea\n",
    "- The price of house can increase by 1.08 times if the finish of the house is very good\n",
    "- If the house has centralised AC the price can increase by 1.08 times\n",
    "- If the basement condition is typical then the house price may increase upto 1.06 times\n",
    "- The Price of the house may increase if the neighbourhood has Crawford, Stone Brook and Northridge heights as Physical locations\n",
    "\n",
    "### Optimal Value of Lambda for Ridge Regression = 9\n",
    "### Optimal Value of Lambda for Lasso Regression = 0.001"
   ]
  }
 ],
 "metadata": {
  "kernelspec": {
   "display_name": "DS",
   "language": "python",
   "name": "ds"
  },
  "language_info": {
   "codemirror_mode": {
    "name": "ipython",
    "version": 3
   },
   "file_extension": ".py",
   "mimetype": "text/x-python",
   "name": "python",
   "nbconvert_exporter": "python",
   "pygments_lexer": "ipython3",
   "version": "3.12.0"
  }
 },
 "nbformat": 4,
 "nbformat_minor": 5
}
